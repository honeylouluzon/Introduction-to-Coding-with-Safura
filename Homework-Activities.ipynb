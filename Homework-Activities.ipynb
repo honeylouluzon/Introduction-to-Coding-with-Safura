{
  "cells": [
    {
      "cell_type": "markdown",
      "metadata": {
        "id": "view-in-github",
        "colab_type": "text"
      },
      "source": [
        "<a href=\"https://colab.research.google.com/github/honeylouluzon/Introduction-to-Coding-with-Safura/blob/main/Introduction_to_Coding_with_Safura.ipynb\" target=\"_parent\"><img src=\"https://colab.research.google.com/assets/colab-badge.svg\" alt=\"Open In Colab\"/></a>"
      ]
    },
    {
      "cell_type": "markdown",
      "metadata": {
        "id": "NdrIRd74llQR"
      },
      "source": [
        "#SESSION II: Control flow (If, Else, and Loops)"
      ]
    },
    {
      "cell_type": "markdown",
      "metadata": {
        "id": "rE8EmNkk0kwJ"
      },
      "source": [
        "##ASSIGNMENT"
      ]
    },
    {
      "cell_type": "markdown",
      "source": [
        "###SESSION II | Assignment #1"
      ],
      "metadata": {
        "id": "IdL2FLZCwFU_"
      }
    },
    {
      "cell_type": "code",
      "execution_count": null,
      "metadata": {
        "colab": {
          "base_uri": "https://localhost:8080/"
        },
        "id": "1KgH_sDE0sur",
        "outputId": "638875a7-f680-475b-85a0-b10a51e1691e"
      },
      "outputs": [
        {
          "name": "stdout",
          "output_type": "stream",
          "text": [
            "ODD OR EVEN NUMBER CHECKER\n",
            "Enter the number: 6\n",
            "The number 6 is an Even Number.\n"
          ]
        }
      ],
      "source": [
        "print(\"ODD OR EVEN NUMBER CHECKER\")\n",
        "inputNum = int(input(\"Enter the number: \"))\n",
        "\n",
        "if inputNum % 2 == 0:\n",
        "  print(f\"The number {inputNum} is an Even Number.\")\n",
        "else:\n",
        "  print(f\"The number {inputNum} is an Odd Number.\")"
      ]
    },
    {
      "cell_type": "markdown",
      "metadata": {
        "id": "xyOU8-lf7DjG"
      },
      "source": [
        "###SESSION II | Assignment #2"
      ]
    },
    {
      "cell_type": "code",
      "execution_count": null,
      "metadata": {
        "colab": {
          "base_uri": "https://localhost:8080/"
        },
        "id": "9XwgQIGE3HpF",
        "outputId": "5325d12c-9216-4408-bd9b-74c19c4a2059"
      },
      "outputs": [
        {
          "name": "stdout",
          "output_type": "stream",
          "text": [
            "FIZZBUZZ Program | 1 - 100 |\n",
            "Fizz for 3,\n",
            "Buzz for 5, and\n",
            "FizzBuzz for both.\n",
            "\n",
            "1\n",
            "2\n",
            "Fizz\n",
            "4\n",
            "Buzz\n",
            "Fizz\n",
            "7\n",
            "8\n",
            "Fizz\n",
            "Buzz\n",
            "11\n",
            "Fizz\n",
            "13\n",
            "14\n",
            "FizzBuzz\n",
            "16\n",
            "17\n",
            "Fizz\n",
            "19\n",
            "Buzz\n",
            "Fizz\n",
            "22\n",
            "23\n",
            "Fizz\n",
            "Buzz\n",
            "26\n",
            "Fizz\n",
            "28\n",
            "29\n",
            "FizzBuzz\n",
            "31\n",
            "32\n",
            "Fizz\n",
            "34\n",
            "Buzz\n",
            "Fizz\n",
            "37\n",
            "38\n",
            "Fizz\n",
            "Buzz\n",
            "41\n",
            "Fizz\n",
            "43\n",
            "44\n",
            "FizzBuzz\n",
            "46\n",
            "47\n",
            "Fizz\n",
            "49\n",
            "Buzz\n",
            "Fizz\n",
            "52\n",
            "53\n",
            "Fizz\n",
            "Buzz\n",
            "56\n",
            "Fizz\n",
            "58\n",
            "59\n",
            "FizzBuzz\n",
            "61\n",
            "62\n",
            "Fizz\n",
            "64\n",
            "Buzz\n",
            "Fizz\n",
            "67\n",
            "68\n",
            "Fizz\n",
            "Buzz\n",
            "71\n",
            "Fizz\n",
            "73\n",
            "74\n",
            "FizzBuzz\n",
            "76\n",
            "77\n",
            "Fizz\n",
            "79\n",
            "Buzz\n",
            "Fizz\n",
            "82\n",
            "83\n",
            "Fizz\n",
            "Buzz\n",
            "86\n",
            "Fizz\n",
            "88\n",
            "89\n",
            "FizzBuzz\n",
            "91\n",
            "92\n",
            "Fizz\n",
            "94\n",
            "Buzz\n",
            "Fizz\n",
            "97\n",
            "98\n",
            "Fizz\n",
            "Buzz\n"
          ]
        }
      ],
      "source": [
        "print(\"FIZZBUZZ Program | 1 - 100 |\\nFizz for 3,\\nBuzz for 5, and\\nFizzBuzz for both.\\n\")\n",
        "\n",
        "for i in range(100):\n",
        "  num=i+1\n",
        "  if num % 3 == 0 and num % 5 == 0: print(\"FizzBuzz\")\n",
        "  elif num % 3 == 0: print(\"Fizz\")\n",
        "  elif num % 5 == 0: print(\"Buzz\")\n",
        "  else: print(num)"
      ]
    },
    {
      "cell_type": "markdown",
      "metadata": {
        "id": "4lXyndzcnFPA"
      },
      "source": [
        "##OPTIONAL CODING TASK (Easy)"
      ]
    },
    {
      "cell_type": "markdown",
      "metadata": {
        "id": "JYwGST7_8M2k"
      },
      "source": [
        "###OPTIONAL CODING TASK (Easy) | Task 1"
      ]
    },
    {
      "cell_type": "code",
      "execution_count": null,
      "metadata": {
        "colab": {
          "base_uri": "https://localhost:8080/"
        },
        "id": "ApghYryP8eAo",
        "outputId": "2991f5bd-d6e3-4bbf-c837-e715e3cff561"
      },
      "outputs": [
        {
          "name": "stdout",
          "output_type": "stream",
          "text": [
            "MULTIPLICATION TABLE\n",
            "with multiplier 1-10\n",
            "Enter the multiplicand: 5\n",
            "5 x 1 = 5\n",
            "5 x 2 = 10\n",
            "5 x 3 = 15\n",
            "5 x 4 = 20\n",
            "5 x 5 = 25\n",
            "5 x 6 = 30\n",
            "5 x 7 = 35\n",
            "5 x 8 = 40\n",
            "5 x 9 = 45\n",
            "5 x 10 = 50\n"
          ]
        }
      ],
      "source": [
        "print(\"MULTIPLICATION TABLE\\nwith multiplier 1-10\")\n",
        "#Write a program that takes an integer n as input and prints the multiplication table for n (from 1 to 10) using a for loop.\"\")\n",
        "\n",
        "n=(int(input(\"Enter the multiplicand: \")))\n",
        "for i in range(10):\n",
        "  print(f\"{n} x {i+1} = {n*(i+1)}\")"
      ]
    },
    {
      "cell_type": "markdown",
      "metadata": {
        "id": "ff1bYV-oA4DQ"
      },
      "source": [
        "###OPTIONAL CODING TASK (Easy) | Task 2"
      ]
    },
    {
      "cell_type": "code",
      "execution_count": null,
      "metadata": {
        "colab": {
          "base_uri": "https://localhost:8080/"
        },
        "id": "8sGYwyeHA7hF",
        "outputId": "53fef01d-4509-4219-f378-48646257495a"
      },
      "outputs": [
        {
          "name": "stdout",
          "output_type": "stream",
          "text": [
            "SUM OF DIGITS\n",
            "Enter the integer: 12345\n",
            "1 + 2 + 3 + 4 + 5 =  15\n"
          ]
        }
      ],
      "source": [
        "print(\"SUM OF DIGITS\")\n",
        "#Write a program that takes an integer n as input and calculates the sum of its digits using a while loop.\n",
        "\n",
        "n = (int(input(\"Enter the integer: \")))\n",
        "digitCount = len(str(abs(n)))\n",
        "digits=abs(n)\n",
        "digitsSum=0\n",
        "text=\"\"\n",
        "while True:\n",
        "  digitCount-=1\n",
        "  y = 10**int(digitCount)\n",
        "  digit=int(digits/y)\n",
        "  digitsSum+=digit\n",
        "  digits-=(y*digit)\n",
        "  if digitCount==0:\n",
        "    text+=f\"{digit} = \"\n",
        "    break\n",
        "  else:\n",
        "    text+=f\"{digit} + \"\n",
        "\n",
        "print(text,digitsSum)"
      ]
    },
    {
      "cell_type": "markdown",
      "metadata": {
        "id": "Iae-1lqaQJ0G"
      },
      "source": [
        "###OPTIONAL CODING TASK (Easy) | Task 3"
      ]
    },
    {
      "cell_type": "code",
      "execution_count": null,
      "metadata": {
        "colab": {
          "base_uri": "https://localhost:8080/"
        },
        "id": "chvxxYC-QXbW",
        "outputId": "03feb7a6-4115-4d5b-c868-0509c7e4bf8f"
      },
      "outputs": [
        {
          "name": "stdout",
          "output_type": "stream",
          "text": [
            "REVERSE NUMBER\n",
            "Enter the number to reverse: 12345\n",
            "Horizontal: 54321\n",
            "Vertical:\n",
            "5\n",
            "4\n",
            "3\n",
            "2\n",
            "1\n",
            "\n"
          ]
        }
      ],
      "source": [
        "print(\"REVERSE NUMBER\")\n",
        "#Write a program that takes an integer n as input and prints the number in reverse order using a while loop.\n",
        "n=(int(input(\"Enter the number to reverse: \")))\n",
        "if n < 0:\n",
        "  n=abs(n)\n",
        "  neg=(-1)\n",
        "else:\n",
        "  neg=1\n",
        "digits=abs(n)\n",
        "digitCount=len(str(digits))\n",
        "textV=\"\"\n",
        "textH=\"\"\n",
        "while digitCount > 0:\n",
        "  digitCount-=1\n",
        "  y = 10**digitCount\n",
        "  digit=int(digits/y)\n",
        "  digits-=(y*digit)\n",
        "  textH=f\"{digit}{textH}\"\n",
        "  textV=f\"{digit}\\n{textV}\"\n",
        "print(\"Horizontal:\",neg*(int(str(textH))))\n",
        "print(f\"Vertical:\\n{textV}\")"
      ]
    },
    {
      "cell_type": "markdown",
      "metadata": {
        "id": "czzD2loC-qxA"
      },
      "source": [
        "###OPTIONAL CODING TASK (Easy) | Task 4"
      ]
    },
    {
      "cell_type": "code",
      "execution_count": null,
      "metadata": {
        "colab": {
          "base_uri": "https://localhost:8080/"
        },
        "id": "1ylh3mnt-0By",
        "outputId": "0f5cd454-aa70-49d6-84b0-d05c56463c49"
      },
      "outputs": [
        {
          "name": "stdout",
          "output_type": "stream",
          "text": [
            "COUNT DIGITS IN A NUMBER\n",
            "Enter the Number: 123.4567\n",
            "Whole Number Digit Count: 3\n",
            "Decimal Number Digit Count: 4\n"
          ]
        }
      ],
      "source": [
        "from decimal import Decimal\n",
        "print(\"COUNT DIGITS IN A NUMBER\")\n",
        "#Write a program that takes an integer n as input and counts the number of digits using a while loop.\n",
        "n = input(\"Enter the Number: \")\n",
        "intNum=abs(int(float(n)))\n",
        "decNum=abs(Decimal(n))-intNum\n",
        "countDec=0\n",
        "countWhole=0\n",
        "while decNum<1 and decNum != 0:\n",
        "  countDec+=1\n",
        "  decNum=(decNum*10)-int(decNum*10)\n",
        "while intNum>=1:\n",
        "  countWhole+=1\n",
        "  intNum/=10\n",
        "print(f\"Whole Number Digit Count: {countWhole}\")\n",
        "print(f\"Decimal Number Digit Count: {countDec}\")\n"
      ]
    },
    {
      "cell_type": "markdown",
      "metadata": {
        "id": "HgDi6U67NbPg"
      },
      "source": [
        "###OPTIONAL CODING TASK (Easy) | Task 5"
      ]
    },
    {
      "cell_type": "code",
      "execution_count": null,
      "metadata": {
        "colab": {
          "base_uri": "https://localhost:8080/"
        },
        "id": "qC7SqiULNfT9",
        "outputId": "f1c7c852-1f00-4cd2-99f5-1db6daefd7c7"
      },
      "outputs": [
        {
          "name": "stdout",
          "output_type": "stream",
          "text": [
            "PRINT A TRIANGLE PATTERN\n",
            "Enter Number: 10\n",
            "\n",
            "*\n",
            "**\n",
            "***\n",
            "****\n",
            "*****\n",
            "******\n",
            "*******\n",
            "********\n",
            "*********\n",
            "**********\n"
          ]
        }
      ],
      "source": [
        "print(\"PRINT A TRIANGLE PATTERN\")\n",
        "#Write a program that takes an integer n as input and prints a right-angled triangle using a for loop\n",
        "text=\"\"\n",
        "n=abs(int(input(\"Enter Number: \")))\n",
        "for i in range(n):\n",
        "  text+=(\"\\n\"+(\"*\"*(i+1)))\n",
        "print(text)"
      ]
    },
    {
      "cell_type": "markdown",
      "metadata": {
        "id": "go97znMdnUYb"
      },
      "source": [
        "##OPTIONAL CODING TASK (hard)"
      ]
    },
    {
      "cell_type": "markdown",
      "metadata": {
        "id": "_aXgPQgKtDMV"
      },
      "source": [
        "###OPTIONAL CODING TASK (hard) | Task 1"
      ]
    },
    {
      "cell_type": "code",
      "execution_count": null,
      "metadata": {
        "colab": {
          "base_uri": "https://localhost:8080/"
        },
        "id": "bvqhEVWIxRdj",
        "outputId": "0dbe4328-80a0-4a6e-fef2-f1c7dd49024a"
      },
      "outputs": [
        {
          "name": "stdout",
          "output_type": "stream",
          "text": [
            "SOURCE: https://www.hackerrank.com/challenges/python-lists/problem?isFullScreen=true\n",
            "Enter value of N: 5\n",
            "insert i e: Insert integer e=22 at position i=0.\n",
            "sort: Sort the list.\n",
            "print: Print the list=[22].\n",
            "append e: Insert integer e=24 at the end of the list.\n",
            "print: Print the list=[22, 24].\n"
          ]
        }
      ],
      "source": [
        "import random\n",
        "print(\"SOURCE: https://www.hackerrank.com/challenges/python-lists/problem?isFullScreen=true\")\n",
        "list = []\n",
        "n = int(input(\"Enter value of N: \"))\n",
        "while n > 1:\n",
        "    commands = random.randint(1, 7)\n",
        "    e = random.randint(1, 99)\n",
        "    if len(list) == 0: i = 0\n",
        "    else: i = random.randint(1, len(list))\n",
        "    if commands == 1:\n",
        "        list.insert(i + 1, e)\n",
        "        print(f\"insert i e: Insert integer e={e} at position i={i}.\")\n",
        "    elif commands == 2: print(f\"print: Print the list={list}.\")\n",
        "    elif commands == 3:\n",
        "        if len(list) == 0: n+=1\n",
        "        else:\n",
        "          e = random.choice(list)\n",
        "          list.remove(e)\n",
        "          print(f\"remove e: Delete the first occurrence of integer e={e}.\")\n",
        "    elif commands == 4:\n",
        "        list.append(e)\n",
        "        print(f\"append e: Insert integer e={e} at the end of the list.\")\n",
        "    elif commands == 5:\n",
        "        print(\"sort: Sort the list.\")\n",
        "        list.sort()\n",
        "    elif commands == 6:\n",
        "        if len(list) > 0:\n",
        "          list.pop()\n",
        "          print(\"pop: Pop the last element from the list.\")\n",
        "        else: n+=1\n",
        "    else:\n",
        "        list.reverse()\n",
        "        print(\"reverse: Reverse the list.\")\n",
        "    n-=1\n",
        "print(f\"print: Print the list={list}.\")"
      ]
    },
    {
      "cell_type": "markdown",
      "metadata": {
        "id": "DJxIp_dPvMNc"
      },
      "source": [
        "###OPTIONAL CODING TASK (hard) | Task 2"
      ]
    },
    {
      "cell_type": "code",
      "execution_count": null,
      "metadata": {
        "colab": {
          "base_uri": "https://localhost:8080/"
        },
        "id": "vv-waZ69vQ5k",
        "outputId": "f37e2d0a-493a-4582-9358-a216a3ef635f"
      },
      "outputs": [
        {
          "name": "stdout",
          "output_type": "stream",
          "text": [
            "TWO SUM\n",
            "Input: nums = [9, 5, 16, 15, 6, 15], target = 21\n",
            "Output: [3,4]\n",
            "Explanation: Because nums[3] + nums[4] == 21, we return [3, 4].\n"
          ]
        }
      ],
      "source": [
        "import random\n",
        "print(\"TWO SUM\")\n",
        "num=[]\n",
        "numLen=random.randint(1,10)\n",
        "for i in range(numLen-1):\n",
        "  num.append(random.randint(1,20))\n",
        "i1 = random.randint(1, numLen-1)\n",
        "i2 = i1\n",
        "while i2 == i1: i2 = random.randint(1, numLen)\n",
        "target=num[i1-1]+num[i2-1]\n",
        "print(f\"Input: nums = {num}, target = {target}\")\n",
        "print(f\"Output: [{i1-1},{i2-1}]\")\n",
        "print(f\"Explanation: Because nums[{i1-1}] + nums[{i2-1}] == {target}, we return [{i1-1}, {i2-1}].\")"
      ]
    },
    {
      "cell_type": "markdown",
      "metadata": {
        "id": "3eesEjzR3X9F"
      },
      "source": [
        "###OPTIONAL CODING TASK (hard) | Task 3"
      ]
    },
    {
      "cell_type": "code",
      "execution_count": null,
      "metadata": {
        "colab": {
          "base_uri": "https://localhost:8080/"
        },
        "id": "bfj4gGAG3l9b",
        "outputId": "aeac53da-cd7c-41c5-df86-325fc778a1bd"
      },
      "outputs": [
        {
          "name": "stdout",
          "output_type": "stream",
          "text": [
            "PALINDROME NUMBER\n",
            "Input: x = -1234321\n",
            "Output: false\n",
            "Explanation: From left to right, it reads -1234321. From right to left, it becomes 1234321-. Therefore it is not a palindrome.\n"
          ]
        }
      ],
      "source": [
        "print(\"PALINDROME NUMBER\")\n",
        "x=int(input(\"Input: x = \"))\n",
        "\n",
        "if x == abs(x): neg = 1\n",
        "else: neg = -1\n",
        "\n",
        "digits = abs(x)\n",
        "digitCount = len(str(digits))\n",
        "text = \"\"\n",
        "\n",
        "while digitCount > 0:\n",
        "    digitCount -= 1\n",
        "    y = 10 ** digitCount\n",
        "    digit = int(digits / y)\n",
        "    digits -= (y * digit)\n",
        "    text = f\"{digit}{text}\"\n",
        "\n",
        "if neg == -1: text = f\"{text}-\"\n",
        "\n",
        "if str(x) == text:\n",
        "  print(f\"Output: true\\nExplanation: {x} reads as {text} from left to right and from right to left.\")\n",
        "else:\n",
        "  print(f\"Output: false\\nExplanation: From left to right, it reads {x}. From right to left, it becomes {text}. Therefore it is not a palindrome.\")"
      ]
    },
    {
      "cell_type": "markdown",
      "metadata": {
        "id": "Uxr3rHvsks4x"
      },
      "source": [
        "# SESSION III: Functions and Code Reusability"
      ]
    },
    {
      "cell_type": "code",
      "execution_count": null,
      "metadata": {
        "colab": {
          "base_uri": "https://localhost:8080/"
        },
        "id": "yO918CiQt6oT",
        "outputId": "d5c0feb4-7b54-410c-ee4c-077b93d0e9a4"
      },
      "outputs": [
        {
          "name": "stdout",
          "output_type": "stream",
          "text": [
            "Enter first number:2\n",
            "Enter second number: 4\n",
            "The product is  8\n"
          ]
        }
      ],
      "source": [
        "def multiply(x,y):\n",
        "  return(x*y)\n",
        "\n",
        "num1=int(input(\"Enter first number:\"))\n",
        "num2=int(input(\"Enter second number: \"))\n",
        "\n",
        "print(\"The product is \", multiply(num1,num2))"
      ]
    },
    {
      "cell_type": "code",
      "execution_count": null,
      "metadata": {
        "colab": {
          "base_uri": "https://localhost:8080/"
        },
        "id": "vtvycHmrvcQq",
        "outputId": "fc7aabba-3ebd-49a4-b5ec-44ebaf4ddc7c"
      },
      "outputs": [
        {
          "name": "stdout",
          "output_type": "stream",
          "text": [
            "Hello Honey!!!\n"
          ]
        }
      ],
      "source": [
        "def greet(name=\"User\"):\n",
        "  print(f\"Hello {name}!!!\")\n",
        "\n",
        "greet(\"Honey\")"
      ]
    },
    {
      "cell_type": "code",
      "execution_count": null,
      "metadata": {
        "colab": {
          "base_uri": "https://localhost:8080/"
        },
        "id": "FyWZR2BOyoOm",
        "outputId": "27e1a265-e39a-4f54-8c45-3cc87b7a14f4"
      },
      "outputs": [
        {
          "name": "stdout",
          "output_type": "stream",
          "text": [
            "Enter a number: 10\n",
            "True\n"
          ]
        }
      ],
      "source": [
        "# Check if a number is even or odd using a function\n",
        "def odd_or_even(num):\n",
        "  if num%2 == 0:\n",
        "    print(\"True\")\n",
        "  else:\n",
        "    print(\"False\")\n",
        "\n",
        "num = int(input(\"Enter a number: \"))\n",
        "\n",
        "odd_or_even(num)"
      ]
    },
    {
      "cell_type": "code",
      "execution_count": null,
      "metadata": {
        "colab": {
          "base_uri": "https://localhost:8080/"
        },
        "id": "LrcMphaVzax5",
        "outputId": "713b0604-02c0-4713-df07-6108ef5caffc"
      },
      "outputs": [
        {
          "name": "stdout",
          "output_type": "stream",
          "text": [
            "Enter the lenth: 5\n",
            "Enter the width: 3\n",
            "The area of the rectangle is 15\n"
          ]
        }
      ],
      "source": [
        "def area_of_rectangle(length, width):\n",
        "     return(length * width)\n",
        "\n",
        "length =int(input(\"Enter the lenth: \"))\n",
        "width =int(input(\"Enter the width: \"))\n",
        "\n",
        "print(\"The area of the rectangle is\",area_of_rectangle(length,width))"
      ]
    },
    {
      "cell_type": "markdown",
      "metadata": {
        "id": "v9FLqydCkuTB"
      },
      "source": [
        "##HOMEWORK"
      ]
    },
    {
      "cell_type": "markdown",
      "metadata": {
        "id": "8t43BFNyKUXe"
      },
      "source": [
        "###SESSION III | HOMEWORK #1"
      ]
    },
    {
      "cell_type": "code",
      "execution_count": null,
      "metadata": {
        "colab": {
          "base_uri": "https://localhost:8080/"
        },
        "id": "mbf90vy4KsgA",
        "outputId": "8e145891-dcb8-49fa-a066-0300b58f46fa"
      },
      "outputs": [
        {
          "name": "stdout",
          "output_type": "stream",
          "text": [
            "FACTORIAL\n",
            "Enter a number: -5\n",
            "-1 x -2 x -3 x -4 x -5 = -120\n"
          ]
        }
      ],
      "source": [
        "def factorial(x,y):\n",
        "  product=1\n",
        "  neg=1\n",
        "  if x==0: text=\"0\"\n",
        "  elif x < 0:\n",
        "    neg=-1\n",
        "    text=\"\"\n",
        "  else: text=\"\"\n",
        "  z=abs(x)\n",
        "  while z > 0:\n",
        "    product*=(z*neg)\n",
        "    if text==\"\": text=f\"{z*neg}\"\n",
        "    else: text=f\"{z*neg} x {text}\"\n",
        "    z-=1\n",
        "  text=f\"{text} =\"\n",
        "  if y==\"formula\": return text\n",
        "  elif y==\"answer\": return product\n",
        "  else: print(\"Input not found!\")\n",
        "\n",
        "print(\"FACTORIAL\")\n",
        "num=int(input(\"Enter a number: \"))\n",
        "print(factorial(num,\"formula\"),factorial(num,\"answer\"))\n",
        "\n"
      ]
    },
    {
      "cell_type": "markdown",
      "metadata": {
        "id": "WVRRQOHnVAn1"
      },
      "source": [
        "###SESSION III | HOMEWORK #2"
      ]
    },
    {
      "cell_type": "code",
      "execution_count": null,
      "metadata": {
        "colab": {
          "base_uri": "https://localhost:8080/"
        },
        "id": "ZC1vEErtVHwW",
        "outputId": "2f19de75-4cf2-4fbb-977b-7e423e4719ef"
      },
      "outputs": [
        {
          "name": "stdout",
          "output_type": "stream",
          "text": [
            "PALINDROME NUMBER\n",
            "Input: -1234321\n",
            "Output: False\n",
            "Explanation: It is not the same \n",
            "when you read it backward \n",
            "which is 1234321-.\n"
          ]
        }
      ],
      "source": [
        "def palindrome(x,value):\n",
        "  if x == abs(x): neg = 1\n",
        "  else: neg = -1\n",
        "  digits = abs(x)\n",
        "  digitCount = len(str(digits))\n",
        "  text = \"\"\n",
        "  while digitCount > 0:\n",
        "    digitCount -= 1\n",
        "    y = 10 ** digitCount\n",
        "    digit = int(digits / y)\n",
        "    digits -= (y * digit)\n",
        "    text = f\"{digit}{text}\"\n",
        "  if neg == -1: text = f\"{text}-\"\n",
        "  if str(x) == text:\n",
        "    if value == \"output\": return True\n",
        "    elif value == \"explanation\": return f\"{x} is a palindrome.\"\n",
        "    else: return \"Unknown Request\"\n",
        "  else:\n",
        "    if value == \"output\": return False\n",
        "    elif value == \"explanation\": return f\"It is not the same \\nwhen you read it backward \\nwhich is {text}.\"\n",
        "    else: return \"Unknown Request\"\n",
        "print(\"PALINDROME NUMBER\")\n",
        "num=int(input(\"Input: \"))\n",
        "print(\"Output:\", palindrome(num,\"output\"))\n",
        "print(\"Explanation:\", palindrome(num,\"explanation\"))"
      ]
    },
    {
      "cell_type": "markdown",
      "metadata": {
        "id": "MBjJ5jvJeUeq"
      },
      "source": [
        "###SESSION III | HOMEWORK #3"
      ]
    },
    {
      "cell_type": "code",
      "execution_count": null,
      "metadata": {
        "colab": {
          "base_uri": "https://localhost:8080/"
        },
        "id": "OOcVe3iQeYw_",
        "outputId": "4d0caa55-7d5a-45b6-f10a-9fe6415c34c8"
      },
      "outputs": [
        {
          "name": "stdout",
          "output_type": "stream",
          "text": [
            "SQUARE THE NUMBER\n",
            "Enter the number: 2.5689\n",
            "Result: 6.6\n"
          ]
        }
      ],
      "source": [
        "def square(x):\n",
        "  return x**2\n",
        "\n",
        "print(\"SQUARE THE NUMBER\")\n",
        "num = input(\"Enter the number: \")\n",
        "if float(num).is_integer(): print(f\"Result: {square(int(num))}\")\n",
        "else: print(f\"Result: {round(square(float(num)),2)}\")"
      ]
    },
    {
      "cell_type": "markdown",
      "metadata": {
        "id": "XshqJFeVrVh4"
      },
      "source": [
        "###SESSION III | HOMEWORK #4"
      ]
    },
    {
      "cell_type": "code",
      "execution_count": null,
      "metadata": {
        "colab": {
          "base_uri": "https://localhost:8080/"
        },
        "id": "6T_xR2e4rYrr",
        "outputId": "f620cd6d-6f5a-402a-abce-de89398918e7"
      },
      "outputs": [
        {
          "name": "stdout",
          "output_type": "stream",
          "text": [
            "PRIME NUMBER CHECKER APP\n",
            "Is 3 a prime number: True\n",
            "Is 4 a prime number: False\n",
            "Is 5 a prime number: True\n",
            "Is 47 a prime number: True\n",
            "Is 50 a prime number: False\n",
            "Is -123 a prime number: False\n",
            "50.5 is not a whole number!\n"
          ]
        }
      ],
      "source": [
        "def prime(x):\n",
        "  y = int(x**0.5)\n",
        "  z=1\n",
        "  for i in range(y+1):\n",
        "    if i > 1:\n",
        "      if (x%i) == 0: z+=1\n",
        "  if z > 1: return False\n",
        "  else: return True\n",
        "print(\"PRIME NUMBER CHECKER APP\") #num = abs(float(input(\"Enter the number: \")))\n",
        "list=[3,4,5,47,50,-123,50.5] #delete if use input\n",
        "for i in range(len(list)): #delete if use input\n",
        "  num=float(list[i]) #delete if use input\n",
        "  if num.is_integer()==False: print(f\"{num} is not a whole number!\")\n",
        "  else: print(f\"Is {int(num)} a prime number: {prime(abs(num))}\")"
      ]
    },
    {
      "cell_type": "markdown",
      "metadata": {
        "id": "WePN7PevCJDR"
      },
      "source": [
        "###SESSION III | HOMEWORK #5"
      ]
    },
    {
      "cell_type": "code",
      "execution_count": null,
      "metadata": {
        "colab": {
          "base_uri": "https://localhost:8080/"
        },
        "id": "1rCeCdrWCQbL",
        "outputId": "f7fd4d57-702d-4ace-ff8d-6a653a5364fd"
      },
      "outputs": [
        {
          "name": "stdout",
          "output_type": "stream",
          "text": [
            "EXPONENT CALCULATOR\n",
            "Base: 2, Exponent: 4, Result: 16\n",
            "Base: 2.2, Exponent: 4, Result: 23.4256\n",
            "Base: 3, Exponent: 4.3, Result: 112.6215\n",
            "Base: -4, Exponent: 5, Result: -1024\n",
            "Base: 6, Exponent: -7, Result: 0.0\n"
          ]
        }
      ],
      "source": [
        "def exp(num,exp):\n",
        "  return num**exp\n",
        "print(\"EXPONENT CALCULATOR\")\n",
        "list=[[2,4],[2.2,4],[3,4.3], [-4,5],[6,-7]]\n",
        "for i in range(len(list)):\n",
        "  result=round(exp(list[i][0],list[i][1]),4)\n",
        "  print(f\"Base: {list[i][0]}, Exponent: {list[i][1]}, Result: {result}\")"
      ]
    },
    {
      "cell_type": "markdown",
      "metadata": {
        "id": "6I73-_fCONo0"
      },
      "source": [
        "###SESSION III | HOMEWORK #6"
      ]
    },
    {
      "cell_type": "code",
      "execution_count": null,
      "metadata": {
        "colab": {
          "base_uri": "https://localhost:8080/"
        },
        "id": "B0yTvMFvORm3",
        "outputId": "bf1a2342-1164-4e33-d8c0-5f9306ce5ad1"
      },
      "outputs": [
        {
          "name": "stdout",
          "output_type": "stream",
          "text": [
            "FIBONACCI SEQUENCE\n",
            "Enter the value of n: 7\n",
            "The nth number is 8\n",
            "List: [0, 1, 1, 2, 3, 5, 8]\n"
          ]
        }
      ],
      "source": [
        "def fibonacci(num,value):\n",
        "  nth=0\n",
        "  text=\"0\"\n",
        "  num1=0\n",
        "  num2=0\n",
        "  fiboList=[0]\n",
        "  for i in range(1,num):\n",
        "    num1=num2\n",
        "    if i == 1:\n",
        "      num2=0\n",
        "      nth=1\n",
        "    elif i == 2:\n",
        "      num2=1\n",
        "      nth=1\n",
        "    else:\n",
        "      num2=nth\n",
        "      nth=num1+num2\n",
        "    fiboList.append(nth)\n",
        "  if value == \"nth\": return nth\n",
        "  elif value == \"list\": return fiboList\n",
        "  else: return \"Request not found!\"\n",
        "print(\"FIBONACCI SEQUENCE\")\n",
        "num=int(input(\"Enter the value of n: \"))\n",
        "print(f\"The nth number is {fibonacci(num,'nth')}\")\n",
        "print(f\"List: {fibonacci(num,'list')}\")"
      ]
    },
    {
      "cell_type": "markdown",
      "metadata": {
        "id": "CewRVp9d4qNl"
      },
      "source": [
        "###SESSION III | HOMEWORK #6"
      ]
    },
    {
      "cell_type": "code",
      "execution_count": null,
      "metadata": {
        "colab": {
          "base_uri": "https://localhost:8080/"
        },
        "id": "j8AD6k0C4xNG",
        "outputId": "897ffc15-cb62-4881-af72-303aabac8bf9"
      },
      "outputs": [
        {
          "name": "stdout",
          "output_type": "stream",
          "text": [
            "FIBONACCI SEQUENCE\n",
            "Input Integer: 10\n",
            "F(9) = 34\n"
          ]
        }
      ],
      "source": [
        "def fibonacci(num,n=3,num1=0,num2=1):\n",
        "  sum=num1+num2\n",
        "  if num<2: sum = 0\n",
        "  elif num==2: sum = 1\n",
        "  else:\n",
        "    if n < num: sum=fibonacci(num,(n+1),num2,sum)\n",
        "  return sum\n",
        "print(\"FIBONACCI SEQUENCE\")\n",
        "num = float(input(\"Input Integer: \"))\n",
        "if num.is_integer(): print(f\"F({int(num-1)}) = {fibonacci(int(num))}\")\n",
        "else: print(\"Error: Input an integer/ whole number.\")"
      ]
    },
    {
      "cell_type": "markdown",
      "metadata": {
        "id": "5Fh5UncZopIy"
      },
      "source": [
        "# SESSION IV: Data Structures (Lists, Tuples, Sets, and Dictionaries)"
      ]
    },
    {
      "cell_type": "markdown",
      "metadata": {
        "id": "7DaWi2Q2oymC"
      },
      "source": [
        "Note:\n",
        "compare to remove, pop return data"
      ]
    },
    {
      "cell_type": "markdown",
      "metadata": {
        "id": "h0DfbJYH-6GU"
      },
      "source": [
        "##HOMEWORK"
      ]
    },
    {
      "cell_type": "markdown",
      "metadata": {
        "id": "ckQ2OlCl_F_8"
      },
      "source": [
        "###SESSION IV | HOMEWORK | Task 1"
      ]
    },
    {
      "cell_type": "code",
      "execution_count": null,
      "metadata": {
        "id": "j5a29BlGo295",
        "colab": {
          "base_uri": "https://localhost:8080/"
        },
        "outputId": "b376a35b-2539-4f91-ed2a-9ef393ef4c9f"
      },
      "outputs": [
        {
          "output_type": "stream",
          "name": "stdout",
          "text": [
            "LIST MANIPULATION (Sorting and Filtering)\n",
            "Input integer or leave blank to end: -1\n",
            "Input integer or leave blank to end: 2\n",
            "Input integer or leave blank to end: 3\n",
            "Input integer or leave blank to end: 4\n",
            "Input integer or leave blank to end: 5\n",
            "Input integer or leave blank to end: 3\n",
            "Input integer or leave blank to end: -3\n",
            "Input integer or leave blank to end: 6\n",
            "Input integer or leave blank to end: 7\n",
            "Input integer or leave blank to end: 7\n",
            "Input integer or leave blank to end: 7\n",
            "Input integer or leave blank to end: -7\n",
            "Input integer or leave blank to end: 88\n",
            "Input integer or leave blank to end: 89\n",
            "Input integer or leave blank to end: 56\n",
            "Input integer or leave blank to end: \n",
            "Original List: [-1, 2, 3, 4, 5, 3, -3, 6, 7, 7, 7, -7, 88, 89, 56]\n",
            "Modified List: [88, 56, 6, 4, 2]\n"
          ]
        }
      ],
      "source": [
        "#Write a Python function that takes a list of numbers, removes all odd numbers, sorts the remaining even numbers in descending order, and returns the modified list.\n",
        "import re\n",
        "def list_manipulation(List):\n",
        "  newList=List\n",
        "  for m in List[:]:\n",
        "    if m%2!=0: newList.remove(m)\n",
        "  newList.sort()\n",
        "  newList.reverse()\n",
        "  return newList\n",
        "\n",
        "print(\"LIST MANIPULATION (Sorting and Filtering)\")\n",
        "num=\"x\"\n",
        "mList=[]\n",
        "while num!=\"\":\n",
        "  num=input(\"Input integer or leave blank to end: \")\n",
        "  #num=\"\"\n",
        "  #mList=[-1,2,3,4,5,-2,3,-3,7,7,7,-7,8,9]\n",
        "  neg=1\n",
        "  num=num.strip()\n",
        "  if num!=\"\":\n",
        "    if num[0]==\"-\":\n",
        "      neg=-1\n",
        "      num=num[1:]\n",
        "  if num==\"\":\n",
        "    if len(mList)>6:\n",
        "      print(\"Original List:\",mList)\n",
        "      print(f\"Modified List: {list_manipulation(mList)}\")\n",
        "    else:\n",
        "      print(f\"Input atleast {7-len(mList)} more number!\")\n",
        "      num=\"x\"\n",
        "  elif bool(re.search(r\"[A-Za-z]\", num)) or bool(re.search(r\"[^A-Za-z0-9]\", num)):\n",
        "    print(\"Input integer only!\")\n",
        "  else:\n",
        "    num=float(num)\n",
        "    if num.is_integer(): mList.append(int(num)*neg)\n",
        "    elif (num-(int(num))!=0): print(\"Input a whole number!\")\n",
        "\n",
        "\n",
        "\n",
        "\n"
      ]
    },
    {
      "cell_type": "markdown",
      "source": [
        "###SESSION IV | HOMEWORK | Task 2"
      ],
      "metadata": {
        "id": "lcPJV0M3KWaK"
      }
    },
    {
      "cell_type": "code",
      "source": [
        "#Write a function that takes a tuple of two numbers, swaps them, and returns the swapped values as a tuple.\n",
        "def swapTuple(x):\n",
        "  tempList=list(x[:])\n",
        "  tempList.reverse()\n",
        "  return tuple(tempList)\n",
        "print(\"TUPLE OPERATIONS (Unpacking and Swapping)\")\n",
        "values = input(\"Input 2 numbers and separate with space: \").split()\n",
        "myTuple=tuple(values)\n",
        "print(myTuple)\n",
        "print(swapTuple(myTuple))"
      ],
      "metadata": {
        "colab": {
          "base_uri": "https://localhost:8080/"
        },
        "id": "tJPyOctKKci9",
        "outputId": "6597be4b-39dd-4156-ea7b-dbd60c8a9bdd"
      },
      "execution_count": null,
      "outputs": [
        {
          "output_type": "stream",
          "name": "stdout",
          "text": [
            "TUPLE OPERATIONS (Unpacking and Swapping)\n",
            "Input 2 numbers and separate with space: 22 33\n",
            "('22', '33')\n",
            "('33', '22')\n"
          ]
        }
      ]
    },
    {
      "cell_type": "markdown",
      "source": [
        "###SESSION IV | HOMEWORK | Task 3"
      ],
      "metadata": {
        "id": "tBLEU0ZMJm77"
      }
    },
    {
      "cell_type": "code",
      "source": [
        "#Write a function that takes a string and returns a dictionary where the keys are words from the string, and the values are their occurrences. Ignore capitalization and punctuation.\n",
        "import string\n",
        "def wordCount(words):\n",
        "  clean_words = tuple(word.translate(str.maketrans(\"\", \"\", string.punctuation)) for word in words)\n",
        "  wordsT = tuple(item.lower() for item in clean_words)\n",
        "  wordsD={}\n",
        "  for w in wordsT: wordsD[w.lower()]=wordsT.count(w.lower())\n",
        "  return wordsD\n",
        "print(\"DICTIONARY WORD COUNTERS\")\n",
        "list=input(\"Input a sentece: \").split()\n",
        "print(\"The original item/s:\", list)\n",
        "print(\"Result:\", wordCount(list))"
      ],
      "metadata": {
        "colab": {
          "base_uri": "https://localhost:8080/"
        },
        "id": "HyDPtMFeJtkR",
        "outputId": "0a7f307f-7c45-4779-9711-96079f434527"
      },
      "execution_count": null,
      "outputs": [
        {
          "output_type": "stream",
          "name": "stdout",
          "text": [
            "DICTIONARY WORD COUNTERS\n",
            "Input a sentece: The quick brown fox, the quick, jump over the lazy dogs Dogs dogs!\n",
            "The original item/s: ['The', 'quick', 'brown', 'fox,', 'the', 'quick,', 'jump', 'over', 'the', 'lazy', 'dogs', 'Dogs', 'dogs!']\n",
            "Result: {'the': 3, 'quick': 2, 'brown': 1, 'fox': 1, 'jump': 1, 'over': 1, 'lazy': 1, 'dogs': 3}\n"
          ]
        }
      ]
    },
    {
      "cell_type": "markdown",
      "source": [
        "###SESSION IV | HOMEWORK | Task 4"
      ],
      "metadata": {
        "id": "LXqEXOfcbQJd"
      }
    },
    {
      "cell_type": "code",
      "source": [
        "#You are given two dictionaries where keys represent product names and values represent sales numbers. Write a function that merges these dictionaries, summing sales for the same product.\n",
        "def mergeDict(d1, d2):\n",
        "  mergeD={}\n",
        "  d2L=list(d2)\n",
        "  for i in d1:\n",
        "    if i in d2:\n",
        "      mergeD[i]=d1[i]+d2[i]\n",
        "      d2L.remove(i)\n",
        "    else: mergeD[i]=d1[i]\n",
        "  for i in d2L: mergeD[i]=d2[i]\n",
        "  return mergeD\n",
        "print(\"MERGE AND SUM TWO DICTIONARIES\")\n",
        "dict1={\"Win9\":2000,\"Anti-virus\": 6000,\"Roblox\": 3500}\n",
        "dict2={\"MacOS\":3000,\"Win9\":3600,\"Roblox\":4000}\n",
        "print(f\"Dictionary 1: {dict1}\\nDictionary 2: {dict2}\\nMerged: {mergeDict(dict1,dict2)}\")\n"
      ],
      "metadata": {
        "colab": {
          "base_uri": "https://localhost:8080/"
        },
        "id": "AxB5FlSEbVLy",
        "outputId": "fe85c3c6-0711-4e85-adf5-601b89ff9a9f"
      },
      "execution_count": null,
      "outputs": [
        {
          "output_type": "stream",
          "name": "stdout",
          "text": [
            "MERGE AND SUM TWO DICTIONARIES\n",
            "Dictionary 1: {'Win9': 2000, 'Anti-virus': 6000, 'Roblox': 3500}\n",
            "Dictionary 2: {'MacOS': 3000, 'Win9': 3600, 'Roblox': 4000}\n",
            "Merged: {'Win9': 5600, 'Anti-virus': 6000, 'Roblox': 7500, 'MacOS': 3000}\n"
          ]
        }
      ]
    },
    {
      "cell_type": "markdown",
      "source": [
        "###SESSION IV | HOMEWORK | Task 5"
      ],
      "metadata": {
        "id": "D9KSr1Imj2i6"
      }
    },
    {
      "cell_type": "code",
      "source": [
        "#Write a Python function that takes a list of numbers and returns the number that appears the most frequently. If multiple numbers have the highest frequency, return any one of them\n",
        "def mode(list):\n",
        "  listT=tuple(list)\n",
        "  listC=[]\n",
        "  for i in list:\n",
        "    if i not in listC: listC.append([listT.count(i), i])\n",
        "  listC.sort()\n",
        "  return listC[-1][1]\n",
        "print(\"FIND THE MOST FREQUENT NUMBER IN A LIST\")\n",
        "list=[1,2,4,4,4,6,6,7,8]\n",
        "print(f\"List: {list}\\nMode: {mode(list)}\")"
      ],
      "metadata": {
        "colab": {
          "base_uri": "https://localhost:8080/"
        },
        "id": "Ez2ldUW4kI6m",
        "outputId": "1d937cd7-2162-4058-9402-a0e0906cad30"
      },
      "execution_count": null,
      "outputs": [
        {
          "output_type": "stream",
          "name": "stdout",
          "text": [
            "FIND THE MOST FREQUENT NUMBER IN A LIST\n",
            "List: [1, 2, 4, 4, 4, 6, 6, 7, 8]\n",
            "Mode: 4\n"
          ]
        }
      ]
    },
    {
      "cell_type": "code",
      "source": [
        "list=[1,2,3]\n",
        "list.append([4,5])\n",
        "print(list)\n",
        "\n",
        "dict={'x':'y','a':'b','c':'d'}\n",
        "del dict['x']\n",
        "dict.pop('a')\n",
        "#dict.remove('c') #cannot be\n",
        "print(dict)"
      ],
      "metadata": {
        "colab": {
          "base_uri": "https://localhost:8080/"
        },
        "id": "kPwOVCSvYdbo",
        "outputId": "8cb1890b-43c1-440a-f32a-e4e10b0e46bf"
      },
      "execution_count": null,
      "outputs": [
        {
          "output_type": "stream",
          "name": "stdout",
          "text": [
            "[1, 2, 3, [4, 5]]\n",
            "{'c': 'd'}\n"
          ]
        }
      ]
    },
    {
      "cell_type": "markdown",
      "source": [
        "#SESSION V: Strings and String Manipulation"
      ],
      "metadata": {
        "id": "894uC-eFySPO"
      }
    },
    {
      "cell_type": "markdown",
      "source": [
        "##HOMEWORK"
      ],
      "metadata": {
        "id": "MQU07hJ9yYbN"
      }
    },
    {
      "cell_type": "markdown",
      "source": [
        "###SESSION V | HOMEWORK | Task 1"
      ],
      "metadata": {
        "id": "MH1yqDfEVGOO"
      }
    },
    {
      "cell_type": "code",
      "source": [
        "#Write a program to reverse a string.\n",
        "x = input(\"Input a String: \")\n",
        "print(f\"Reversed: {x[::-1]}\")"
      ],
      "metadata": {
        "colab": {
          "base_uri": "https://localhost:8080/"
        },
        "id": "JAiz1FIUVTxF",
        "outputId": "ca9e5a32-e220-4730-d438-293070feae3a"
      },
      "execution_count": null,
      "outputs": [
        {
          "output_type": "stream",
          "name": "stdout",
          "text": [
            "Input a String: Honey\n",
            "Reversed: yenoH\n"
          ]
        }
      ]
    },
    {
      "cell_type": "markdown",
      "source": [
        "###SESSION V | HOMEWORK | Task 2"
      ],
      "metadata": {
        "id": "-Grx2fBqWYwC"
      }
    },
    {
      "cell_type": "code",
      "source": [
        "def countVC(str):\n",
        "  vowels=['a','e','i','o','u']\n",
        "  consonants=['b','c','d','f','g','h','j','k','l','m','n','ñ','p','q','r','s','t','v','w','x','y','z']\n",
        "  countV=0\n",
        "  countC=0\n",
        "  for i in range(len(str)):\n",
        "    for vowel in vowels:\n",
        "      if str[i].lower()==vowel: countV+=1\n",
        "    for consonant in consonants:\n",
        "      if str[i].lower()==consonant: countC+=1\n",
        "  return f\"Vowels: {countV}\\nConsonants: {countC}\"\n",
        "\n",
        "x = input(\"Input a String: \")\n",
        "print(f\"COUNT\\n{countVC(x)}\")\n",
        "\n"
      ],
      "metadata": {
        "colab": {
          "base_uri": "https://localhost:8080/"
        },
        "id": "keuvPyptWgbo",
        "outputId": "f8cfd1d8-55c5-4b3e-8156-ce3f32da1f28"
      },
      "execution_count": null,
      "outputs": [
        {
          "output_type": "stream",
          "name": "stdout",
          "text": [
            "Input a String: Honey\n",
            "COUNT\n",
            "Vowels: 2\n",
            "Consonants: 3\n"
          ]
        }
      ]
    },
    {
      "cell_type": "markdown",
      "source": [
        "#SESSION VI: Object-Oriented Programming (OOP)"
      ],
      "metadata": {
        "id": "LAzN41K5Zb9y"
      }
    },
    {
      "cell_type": "code",
      "source": [
        "class Person:\n",
        "  def __init__(self, name, age):\n",
        "    self.name=name\n",
        "    self.age=age\n",
        "\n",
        "  def introduce(self):\n",
        "    return f\"My name is {self.name}, {self.age} years old.\"\n",
        "\n",
        "person1=Person(\"Honey\",10)\n",
        "print(person1.introduce())"
      ],
      "metadata": {
        "colab": {
          "base_uri": "https://localhost:8080/"
        },
        "id": "f5iO4vMxgq3O",
        "outputId": "8a487d1f-be78-41da-f9ae-0f1323ccaddd"
      },
      "execution_count": null,
      "outputs": [
        {
          "output_type": "stream",
          "name": "stdout",
          "text": [
            "My name is Honey, 10 years old.\n"
          ]
        }
      ]
    },
    {
      "cell_type": "markdown",
      "source": [
        "##HOMEWORK"
      ],
      "metadata": {
        "id": "60a65Zuk04RP"
      }
    },
    {
      "cell_type": "markdown",
      "source": [
        "###SESSION VI | HOMEWORK | Task 1"
      ],
      "metadata": {
        "id": "ryLef_YEnSkP"
      }
    },
    {
      "cell_type": "code",
      "source": [
        "class Car:\n",
        "  def __init__(self,make,model,year):\n",
        "    self.make=make\n",
        "    self.model=model\n",
        "    self.year=year\n",
        "  def details(self):\n",
        "    return f\"CAR DETAILS\\nMake: {self.make}\\nModel: {self.model}\\nYear: {self.year}\"\n",
        "\n",
        "car1=Car(\"Toyota\",\"Supra\",2025)\n",
        "print(car1.details())"
      ],
      "metadata": {
        "colab": {
          "base_uri": "https://localhost:8080/"
        },
        "id": "gikqRNfnnnVr",
        "outputId": "753ae310-daf4-47fb-a946-00ee65618cda"
      },
      "execution_count": null,
      "outputs": [
        {
          "output_type": "stream",
          "name": "stdout",
          "text": [
            "CAR DETAILS\n",
            "Make: Toyota\n",
            "Model: Supra\n",
            "Year: 2025\n"
          ]
        }
      ]
    },
    {
      "cell_type": "markdown",
      "source": [
        "###SESSION VI | HOMEWORK | Task 2"
      ],
      "metadata": {
        "id": "uSAXmK6wpRU2"
      }
    },
    {
      "cell_type": "code",
      "source": [
        "class Animal:\n",
        "  def __init__(self, name, breed):\n",
        "    self.name=name\n",
        "    self.breed=breed\n",
        "  def details(self): return f\"My name is {self.name} and I am a {self.breed}.\"\n",
        "\n",
        "class Dog(Animal):\n",
        "  def character(self):\n",
        "    return \"We bark and known to be a man's bestfriend.\"\n",
        "\n",
        "class Cat(Animal):\n",
        "  def character(self):\n",
        "    return \"We are known to be agile and like spend time playing games with you.\"\n",
        "\n",
        "dog1=Dog(\"Bob\",\"Boston Terrier\")\n",
        "print(dog1.details(), dog1.character())\n",
        "cat1=Cat(\"Carlo\", \"Stray Cat\")\n",
        "print(cat1.details(), cat1.character())\n"
      ],
      "metadata": {
        "colab": {
          "base_uri": "https://localhost:8080/"
        },
        "id": "59cGzLSkpYmX",
        "outputId": "c239c1a1-d744-4666-c59a-05214baa25c9"
      },
      "execution_count": null,
      "outputs": [
        {
          "output_type": "stream",
          "name": "stdout",
          "text": [
            "My name is Bob and I am a Boston Terrier. We bark and known to be a man's bestfriend.\n",
            "My name is Carlo and I am a Stray Cat. We are known to be agile and like spend time playing games with you.\n"
          ]
        }
      ]
    },
    {
      "cell_type": "markdown",
      "source": [
        "#SESSION VII: File Handling"
      ],
      "metadata": {
        "id": "1eg1ium71PQC"
      }
    },
    {
      "cell_type": "markdown",
      "source": [
        "##OPTIONAL HOMEWORK"
      ],
      "metadata": {
        "id": "tWdumnBA1WhO"
      }
    },
    {
      "cell_type": "markdown",
      "source": [
        "###SESSION VII | OPTIONAL HOMEWORK | Task 1"
      ],
      "metadata": {
        "id": "fqWYowRpAWyk"
      }
    },
    {
      "cell_type": "code",
      "source": [
        "sentences=\"\"\n",
        "while True:\n",
        "  sentence=\"\"\n",
        "  sentence=input(\"Input a Sentence or just press enter to end the input: \")\n",
        "  if sentence=='': break\n",
        "  else: sentences=f\"{sentences}\\n{sentence}\"\n",
        "\n",
        "f = open(\"/content/sample_data/content.txt\", \"w\")\n",
        "f.write(sentences)\n",
        "f.close()\n",
        "\n",
        "f = open(\"/content/sample_data/content.txt\", \"r\")\n",
        "content=f.read()\n",
        "words=content.split()\n",
        "lines=content.split(\"\\n\")\n",
        "print(f\"CONTENT\\nWords: {words}\\nLines: {lines[1:]}\")\n",
        "print(f\"COUNT\\nWord:{len(words)}\\nSentence:{len(lines)-1}\")\n",
        "f.close()"
      ],
      "metadata": {
        "id": "OBuh9Emw_HDW",
        "colab": {
          "base_uri": "https://localhost:8080/"
        },
        "outputId": "6baab34c-d243-4520-9ad0-898003617221"
      },
      "execution_count": null,
      "outputs": [
        {
          "output_type": "stream",
          "name": "stdout",
          "text": [
            "Input a Sentence or just press enter to end the input: I am Honey.\n",
            "Input a Sentence or just press enter to end the input: I like Math\n",
            "Input a Sentence or just press enter to end the input: I am an IT.\n",
            "Input a Sentence or just press enter to end the input: \n",
            "CONTENT\n",
            "Words: ['I', 'am', 'Honey.', 'I', 'like', 'Math', 'I', 'am', 'an', 'IT.']\n",
            "Lines: ['I am Honey.', 'I like Math', 'I am an IT.']\n",
            "COUNT\n",
            "Word:10\n",
            "Sentence:3\n"
          ]
        }
      ]
    },
    {
      "cell_type": "markdown",
      "source": [
        "###SESSION VII | OPTIONAL HOMEWORK | Task 2"
      ],
      "metadata": {
        "id": "XHD8S6_HyNl2"
      }
    },
    {
      "cell_type": "code",
      "source": [
        "userInput = input(\"Input: \")\n",
        "f = open(\"/content/file.txt\",\"w\")\n",
        "f.write(userInput)\n",
        "f.close()"
      ],
      "metadata": {
        "colab": {
          "base_uri": "https://localhost:8080/"
        },
        "id": "rvlIRim-yRd0",
        "outputId": "334717e7-1ace-4273-e40a-4b4e8e5d2032"
      },
      "execution_count": null,
      "outputs": [
        {
          "name": "stdout",
          "output_type": "stream",
          "text": [
            "Input: This is a user input.\n"
          ]
        }
      ]
    },
    {
      "cell_type": "markdown",
      "source": [
        "###SESSION VII | OPTIONAL HOMEWORK | Task 3"
      ],
      "metadata": {
        "id": "Bzj-L9mA0M6P"
      }
    },
    {
      "cell_type": "code",
      "source": [
        "class Task:\n",
        "  def __init__(self, path):\n",
        "    self.path=path\n",
        "\n",
        "  def __str__(self):\n",
        "    task = self.get()\n",
        "    list=\"TASK LIST\"\n",
        "    for num,item in enumerate(task):\n",
        "      list = f\"{list}\\n{num+1}. {item.strip()}\"\n",
        "    return list\n",
        "\n",
        "  def add(self, task):\n",
        "    f = open(self.path, \"a\")\n",
        "    f.write(f\"{task}\\n\")\n",
        "    f.close()\n",
        "\n",
        "  def get(self):\n",
        "    f = open(self.path, \"r\")\n",
        "    list = f.read().split('\\n')\n",
        "    f.close()\n",
        "    return list[:-1]\n",
        "\n",
        "  def remove(self, item):\n",
        "    fList = self.get()\n",
        "    fList.remove(fList[item-1])\n",
        "    self.clear()\n",
        "    for i in fList: self.add(i)\n",
        "\n",
        "  def clear(self):\n",
        "    f = open(self.path, \"w\")\n",
        "    f.write(\"\")\n",
        "    f.close()\n",
        "\n",
        "tasks=Task(\"/content/task.txt\")\n",
        "tasks.clear()\n",
        "tasks.add(\"Finish Homework\")\n",
        "tasks.add(\"Clean the House\")\n",
        "tasks.add(\"Go to Gym\")\n",
        "print(tasks)\n",
        "rTask = int(input(\"Input the number of the finished task you want to remove: \"))\n",
        "tasks.remove(rTask)\n",
        "print(tasks)\n",
        "\n",
        "\n"
      ],
      "metadata": {
        "colab": {
          "base_uri": "https://localhost:8080/"
        },
        "id": "m9ksKtLB0T-E",
        "outputId": "3bfe6471-40a1-4c89-d971-0a0ac988e292"
      },
      "execution_count": null,
      "outputs": [
        {
          "output_type": "stream",
          "name": "stdout",
          "text": [
            "TASK LIST\n",
            "1. Finish Homework\n",
            "2. Clean the House\n",
            "3. Go to Gym\n",
            "Input the number of the finished task you want to remove: 3\n",
            "TASK LIST\n",
            "1. Finish Homework\n",
            "2. Clean the House\n"
          ]
        }
      ]
    },
    {
      "cell_type": "code",
      "source": [],
      "metadata": {
        "id": "6uSfkgbdLIP_"
      },
      "execution_count": null,
      "outputs": []
    },
    {
      "cell_type": "code",
      "source": [],
      "metadata": {
        "id": "HvYKByqqLAaP"
      },
      "execution_count": null,
      "outputs": []
    },
    {
      "cell_type": "markdown",
      "source": [
        "#SESSION VIII: Modules and Packages"
      ],
      "metadata": {
        "id": "vnqiFPSX1lEu"
      }
    },
    {
      "cell_type": "markdown",
      "source": [
        "##OPTIONAL HOMEWORK"
      ],
      "metadata": {
        "id": "gHvjD4iU2hme"
      }
    },
    {
      "cell_type": "markdown",
      "source": [
        "###SESSION VIII | OPTIONAL HOMEWORK | Task 1"
      ],
      "metadata": {
        "id": "F5GJLoMyx8mh"
      }
    },
    {
      "cell_type": "code",
      "source": [
        "from math import sqrt, factorial\n",
        "\n",
        "num1=int(input(\"Input Number: \"))\n",
        "print(f\"RESULT\\n\"+\n",
        "f\"Square Root: {sqrt(num1)}\\n\"+\n",
        "f\"Factorial: {factorial(num1)}\")"
      ],
      "metadata": {
        "colab": {
          "base_uri": "https://localhost:8080/"
        },
        "id": "sYJtLeEvyDi4",
        "outputId": "228103e1-10a6-4df1-85f0-ede165b115ad"
      },
      "execution_count": null,
      "outputs": [
        {
          "output_type": "stream",
          "name": "stdout",
          "text": [
            "Input Number: 4\n",
            "RESULT\n",
            "Square Root: 2.0\n",
            "Factorial: 24\n"
          ]
        }
      ]
    },
    {
      "cell_type": "markdown",
      "source": [
        "###SESSION VIII: OPTIONAL HOMEWORK | Task 2"
      ],
      "metadata": {
        "id": "XQAgpv6H3uzU"
      }
    },
    {
      "cell_type": "markdown",
      "source": [
        "See [link text](https://drive.google.com/drive/folders/12DTzwr0BQ4H3yIgPkS9HNwke6TZQ-Rzc) for the google drive folder where the python files stored."
      ],
      "metadata": {
        "id": "jr6d_i6P18wG"
      }
    },
    {
      "cell_type": "markdown",
      "source": [
        "#SESSION IX: Working with APIs"
      ],
      "metadata": {
        "id": "GBFI8MnC4Jkb"
      }
    },
    {
      "cell_type": "markdown",
      "source": [
        "##OPTIONAL HOMEWORK"
      ],
      "metadata": {
        "id": "RgjvYLpEFKPH"
      }
    },
    {
      "cell_type": "markdown",
      "source": [
        "###SESSION IX | Optional Homework | Task 1"
      ],
      "metadata": {
        "id": "VuFmEjudE1f4"
      }
    },
    {
      "cell_type": "code",
      "source": [
        "import requests\n",
        "apikey = '7a12d4f166b2a7687b5f20c78cf011bd'\n",
        "#city = input(\"WEATHER\\n\\nInput the City: \")\n",
        "city = 'Panabo'\n",
        "url=f'https://api.openweathermap.org/data/2.5/'\n",
        "url+=f'weather?q={city}&APPID={apikey}'\n",
        "\n",
        "response = requests.get(url)\n",
        "if response.status_code == 200:\n",
        "  result = response.json()\n",
        "  for items in result.items():\n",
        "    if items[0] == 'weather':\n",
        "      print(items[0].upper())\n",
        "      for weather in items[1]:\n",
        "        for key, item in weather.items():\n",
        "          print(f\"   {key.upper()}: {item}\")\n",
        "else: print(f\"Error: {response.status_code}\")\n"
      ],
      "metadata": {
        "colab": {
          "base_uri": "https://localhost:8080/"
        },
        "id": "UibNad0J4Q16",
        "outputId": "3e7b31e6-4949-4923-e41f-5369fda3af4a"
      },
      "execution_count": null,
      "outputs": [
        {
          "output_type": "stream",
          "name": "stdout",
          "text": [
            "WEATHER\n",
            "   ID: 803\n",
            "   MAIN: Clouds\n",
            "   DESCRIPTION: broken clouds\n",
            "   ICON: 04d\n"
          ]
        }
      ]
    },
    {
      "cell_type": "markdown",
      "source": [
        "###SESSION IX | Optional Homework | Task 2"
      ],
      "metadata": {
        "id": "Byhe21A3Fe-C"
      }
    },
    {
      "cell_type": "code",
      "source": [
        "import requests\n",
        "url = 'https://jsonplaceholder.typicode.com/posts'\n",
        "\n",
        "response = requests.get(url)\n",
        "if response.status_code == 200:\n",
        "  record = response.json()\n",
        "  for i in record[:10]:\n",
        "    for item in i.items():\n",
        "      if item[0].upper() != 'USERID':\n",
        "        print(f\"{item[0].upper()}: {item[1]}\")\n",
        "    print('\\n')\n",
        "else:\n",
        "  print(f\"Error: {response.status_code}\")\n",
        "\n",
        "\n"
      ],
      "metadata": {
        "colab": {
          "base_uri": "https://localhost:8080/"
        },
        "id": "3sy6Ql4gFiGG",
        "outputId": "ae2d88fe-a8b3-418f-c169-6dfc569e9b77"
      },
      "execution_count": null,
      "outputs": [
        {
          "output_type": "stream",
          "name": "stdout",
          "text": [
            "ID: 1\n",
            "TITLE: sunt aut facere repellat provident occaecati excepturi optio reprehenderit\n",
            "BODY: quia et suscipit\n",
            "suscipit recusandae consequuntur expedita et cum\n",
            "reprehenderit molestiae ut ut quas totam\n",
            "nostrum rerum est autem sunt rem eveniet architecto\n",
            "\n",
            "\n",
            "ID: 2\n",
            "TITLE: qui est esse\n",
            "BODY: est rerum tempore vitae\n",
            "sequi sint nihil reprehenderit dolor beatae ea dolores neque\n",
            "fugiat blanditiis voluptate porro vel nihil molestiae ut reiciendis\n",
            "qui aperiam non debitis possimus qui neque nisi nulla\n",
            "\n",
            "\n",
            "ID: 3\n",
            "TITLE: ea molestias quasi exercitationem repellat qui ipsa sit aut\n",
            "BODY: et iusto sed quo iure\n",
            "voluptatem occaecati omnis eligendi aut ad\n",
            "voluptatem doloribus vel accusantium quis pariatur\n",
            "molestiae porro eius odio et labore et velit aut\n",
            "\n",
            "\n",
            "ID: 4\n",
            "TITLE: eum et est occaecati\n",
            "BODY: ullam et saepe reiciendis voluptatem adipisci\n",
            "sit amet autem assumenda provident rerum culpa\n",
            "quis hic commodi nesciunt rem tenetur doloremque ipsam iure\n",
            "quis sunt voluptatem rerum illo velit\n",
            "\n",
            "\n",
            "ID: 5\n",
            "TITLE: nesciunt quas odio\n",
            "BODY: repudiandae veniam quaerat sunt sed\n",
            "alias aut fugiat sit autem sed est\n",
            "voluptatem omnis possimus esse voluptatibus quis\n",
            "est aut tenetur dolor neque\n",
            "\n",
            "\n",
            "ID: 6\n",
            "TITLE: dolorem eum magni eos aperiam quia\n",
            "BODY: ut aspernatur corporis harum nihil quis provident sequi\n",
            "mollitia nobis aliquid molestiae\n",
            "perspiciatis et ea nemo ab reprehenderit accusantium quas\n",
            "voluptate dolores velit et doloremque molestiae\n",
            "\n",
            "\n",
            "ID: 7\n",
            "TITLE: magnam facilis autem\n",
            "BODY: dolore placeat quibusdam ea quo vitae\n",
            "magni quis enim qui quis quo nemo aut saepe\n",
            "quidem repellat excepturi ut quia\n",
            "sunt ut sequi eos ea sed quas\n",
            "\n",
            "\n",
            "ID: 8\n",
            "TITLE: dolorem dolore est ipsam\n",
            "BODY: dignissimos aperiam dolorem qui eum\n",
            "facilis quibusdam animi sint suscipit qui sint possimus cum\n",
            "quaerat magni maiores excepturi\n",
            "ipsam ut commodi dolor voluptatum modi aut vitae\n",
            "\n",
            "\n",
            "ID: 9\n",
            "TITLE: nesciunt iure omnis dolorem tempora et accusantium\n",
            "BODY: consectetur animi nesciunt iure dolore\n",
            "enim quia ad\n",
            "veniam autem ut quam aut nobis\n",
            "et est aut quod aut provident voluptas autem voluptas\n",
            "\n",
            "\n",
            "ID: 10\n",
            "TITLE: optio molestias id quia eum\n",
            "BODY: quo et expedita modi cum officia vel magni\n",
            "doloribus qui repudiandae\n",
            "vero nisi sit\n",
            "quos veniam quod sed accusamus veritatis error\n",
            "\n",
            "\n"
          ]
        }
      ]
    },
    {
      "cell_type": "code",
      "source": [
        "import re\n",
        "\n",
        "text = \"Loving the #sunshine and #beach vibes! Let's enjoy the #summer2025 together!\"\n",
        "pattern = r\"#\\w+\"\n",
        "\n",
        "matches = re.findall(pattern,text)\n",
        "print(matches)\n"
      ],
      "metadata": {
        "colab": {
          "base_uri": "https://localhost:8080/"
        },
        "id": "6UdilJUhLKLa",
        "outputId": "22d72d3f-ad75-4bdb-df22-6e5e45b20b99"
      },
      "execution_count": null,
      "outputs": [
        {
          "output_type": "stream",
          "name": "stdout",
          "text": [
            "['#sunshine', '#beach', '#summer2025']\n"
          ]
        }
      ]
    },
    {
      "cell_type": "markdown",
      "source": [
        "#SESSION X: Regular Expressions (Regex)"
      ],
      "metadata": {
        "id": "mMzRInw0FoIE"
      }
    },
    {
      "cell_type": "markdown",
      "source": [
        "##HOMEWORK"
      ],
      "metadata": {
        "id": "qbBqa4uHF96x"
      }
    },
    {
      "cell_type": "markdown",
      "source": [
        "###SESSION X | Homework | Task 1"
      ],
      "metadata": {
        "id": "mNmvIbJ9GKHP"
      }
    },
    {
      "cell_type": "code",
      "source": [
        "import re\n",
        "\n",
        "emails = [\"test@example.com\", \"invalid-email\", \"hello@site.org.ph\", \"hi.hello@com.ph\", \"hi@com.ph\", \"_honey@gmail.com\", \"1email@gmail.com\"]\n",
        "pattern = r\"[a-zA-Z_]+[\\w\\.]+@[\\w\\.—]+\\.[\\w\\.]+\"\n",
        "if 5==5: print (\"yes\")\n",
        "valid_emails = [email for email in emails if re.fullmatch(pattern, email)]\n",
        "print(valid_emails)"
      ],
      "metadata": {
        "colab": {
          "base_uri": "https://localhost:8080/"
        },
        "id": "kSzZv1AzGQM1",
        "outputId": "dd9073e3-6918-4acd-f92a-3065cf59561c"
      },
      "execution_count": null,
      "outputs": [
        {
          "output_type": "stream",
          "name": "stdout",
          "text": [
            "yes\n",
            "['test@example.com', 'hello@site.org.ph', 'hi.hello@com.ph', 'hi@com.ph', '_honey@gmail.com']\n"
          ]
        }
      ]
    },
    {
      "cell_type": "markdown",
      "source": [
        "###SESSION X | Homework | Task 2"
      ],
      "metadata": {
        "id": "F_C3-VjgS_H5"
      }
    },
    {
      "cell_type": "code",
      "source": [
        "import re\n",
        "text = \"Order number: 12345, Item code: 67890, Contact No: +09123456789, 0912-345-6789, (+63)9123456789, 0912 345 6789\"\n",
        "pattern = r\"[\\(?\\+?\\d\\)?]+\\d+[-\\d\\s]+\\d+\"\n",
        "\n",
        "match = re.search(\"Contact\", text)\n",
        "index = match.start() if match else -1\n",
        "text = text[index:]\n",
        "matches = re.findall(pattern, text)\n",
        "print (matches)"
      ],
      "metadata": {
        "colab": {
          "base_uri": "https://localhost:8080/"
        },
        "id": "ibEGKff_TCPu",
        "outputId": "f71bded3-25ea-49fc-963f-637d890014ea"
      },
      "execution_count": null,
      "outputs": [
        {
          "output_type": "stream",
          "name": "stdout",
          "text": [
            "['+09123456789', '0912-345-6789', '(+63)9123456789', '0912 345 6789']\n"
          ]
        }
      ]
    }
  ],
  "metadata": {
    "colab": {
      "provenance": [],
      "mount_file_id": "1sR83e9KsPkYAd9HpqBoKAHmD4ISRsWQ5",
      "authorship_tag": "ABX9TyMLmpVcSvHW7YB+OeO5KIX5",
      "include_colab_link": true
    },
    "kernelspec": {
      "display_name": "Python 3",
      "name": "python3"
    },
    "language_info": {
      "name": "python"
    }
  },
  "nbformat": 4,
  "nbformat_minor": 0
}
